{
 "cells": [
  {
   "cell_type": "markdown",
   "metadata": {},
   "source": [
    "# IFN619 Assessment 3 - Joshua Geddam\n",
    "\n",
    "### Instructions\n",
    "\n",
    "1. Add your name and student number and run the cell below\n",
    "2. Change the name of this file to the format: **A3-studentNumber-full_Name.ipynb**\n",
    "3. Throughout the semester add regular reflections in **Part A**. Run the date and time cells for each reflection to record the current date and time.\n",
    "4. Include in **Part A**, supporting evidence\n",
    "5. At the conclusion of the semester write your reflective journal in **Part B**. Ensure that you follow the instructions on Canvas and include 3 threads (Experience, Personal, Learning). This part should be approximately 2-3 pages long when exported to PDF.\n",
    "6. Export this notebook as a PDF file - make sure it is named in the format: **A3-studentNumber-full_Name.pdf**\n",
    "7. Submit the exported PDF file to Canvas."
   ]
  },
  {
   "cell_type": "code",
   "execution_count": 2,
   "metadata": {
    "scrolled": true
   },
   "outputs": [
    {
     "data": {
      "text/html": [
       "<h1>Joshua Geddam (11524065)</h1>"
      ],
      "text/plain": [
       "<IPython.core.display.HTML object>"
      ]
     },
     "metadata": {},
     "output_type": "display_data"
    }
   ],
   "source": [
    "# Complete the following cell with your details and run to produce your personalised header for this assignment\n",
    "\n",
    "import time\n",
    "from IPython.display import display, HTML\n",
    "\n",
    "first_name = 'Joshua'\n",
    "last_name = 'Geddam'\n",
    "student_number = '11524065'\n",
    "\n",
    "personal_header = \"<h1>\"+first_name+\" \"+last_name+\" (\"+student_number+\")</h1>\"\n",
    "display(HTML(personal_header))"
   ]
  },
  {
   "cell_type": "markdown",
   "metadata": {},
   "source": [
    "---\n",
    "\n",
    "## PART A - Records of regular reflection and supporting evidence"
   ]
  },
  {
   "cell_type": "code",
   "execution_count": 12,
   "metadata": {},
   "outputs": [
    {
     "data": {
      "text/html": [
       "<h3>Regular reflection </h3>"
      ],
      "text/plain": [
       "<IPython.core.display.HTML object>"
      ]
     },
     "metadata": {},
     "output_type": "display_data"
    },
    {
     "data": {
      "text/html": [
       "<h3>Week1 </h3>"
      ],
      "text/plain": [
       "<IPython.core.display.HTML object>"
      ]
     },
     "metadata": {},
     "output_type": "display_data"
    },
    {
     "data": {
      "text/html": [
       "\n",
       "<ul>\n",
       "    <li>Explored the basic concepts of data analytics.</li>\n",
       "    <li>Introduction to tools and software, including Python and Jupyter Notebooks.</li>\n",
       "</ul>\n",
       "<h3><strong>Supporting Evidence:</strong></h3>\n",
       "<ul>\n",
       "    <li>Setup and configured Jupyter Notebook for the first time.</li>\n",
       "    <li>Participated in the initial group discussion in the online forum.</li>\n",
       "</ul>\n"
      ],
      "text/plain": [
       "<IPython.core.display.HTML object>"
      ]
     },
     "metadata": {},
     "output_type": "display_data"
    }
   ],
   "source": [
    "# run this cell when you complete a reflection\n",
    "display(HTML(f\"<h3>Regular reflection </h3>\"))\n",
    "# Timestamp for the reflection\n",
    "display(HTML(f\"<h3>Week1 </h3>\"))\n",
    "\n",
    "\n",
    "display(HTML(\"\"\"\n",
    "<ul>\n",
    "    <li>Explored the basic concepts of data analytics.</li>\n",
    "    <li>Introduction to tools and software, including Python and Jupyter Notebooks.</li>\n",
    "</ul>\n",
    "<h3><strong>Supporting Evidence:</strong></h3>\n",
    "<ul>\n",
    "    <li>Setup and configured Jupyter Notebook for the first time.</li>\n",
    "    <li>Participated in the initial group discussion in the online forum.</li>\n",
    "</ul>\n",
    "\"\"\"))\n",
    "\n"
   ]
  },
  {
   "cell_type": "markdown",
   "metadata": {},
   "source": [
    "### Regular Reflection\n",
    "\n",
    "\n",
    "\n",
    "### Supporting evidence\n",
    "\n"
   ]
  },
  {
   "cell_type": "code",
   "execution_count": 13,
   "metadata": {},
   "outputs": [
    {
     "data": {
      "text/html": [
       "<h3>Regular reflection</h3>"
      ],
      "text/plain": [
       "<IPython.core.display.HTML object>"
      ]
     },
     "metadata": {},
     "output_type": "display_data"
    },
    {
     "data": {
      "text/html": [
       "<h3>Week2 </h3>"
      ],
      "text/plain": [
       "<IPython.core.display.HTML object>"
      ]
     },
     "metadata": {},
     "output_type": "display_data"
    },
    {
     "data": {
      "text/html": [
       "\n",
       "<ul>\n",
       "    <li>Focused on advanced Python concepts crucial for data analysis.</li>\n",
       "    <li>Practiced data manipulation and visualization using pandas and matplotlib.</li>\n",
       "</ul>\n",
       "<h3><strong>Supporting Evidence:</strong></h3>\n",
       "<ul>\n",
       "    <li>Completed exercises on data types, functions, and libraries.</li>\n",
       "    <li>Produced first set of basic data visualizations showing economic trends.</li>\n",
       "</ul>\n"
      ],
      "text/plain": [
       "<IPython.core.display.HTML object>"
      ]
     },
     "metadata": {},
     "output_type": "display_data"
    }
   ],
   "source": [
    "# run this cell when you complete a reflection\n",
    "display(HTML(f\"<h3>Regular reflection</h3>\"))\n",
    "display(HTML(f\"<h3>Week2 </h3>\"))\n",
    "display(HTML(\"\"\"\n",
    "<ul>\n",
    "    <li>Focused on advanced Python concepts crucial for data analysis.</li>\n",
    "    <li>Practiced data manipulation and visualization using pandas and matplotlib.</li>\n",
    "</ul>\n",
    "<h3><strong>Supporting Evidence:</strong></h3>\n",
    "<ul>\n",
    "    <li>Completed exercises on data types, functions, and libraries.</li>\n",
    "    <li>Produced first set of basic data visualizations showing economic trends.</li>\n",
    "</ul>\n",
    "\"\"\"))\n"
   ]
  },
  {
   "cell_type": "markdown",
   "metadata": {},
   "source": [
    "### Regular Reflection\n",
    "\n",
    "\n",
    "\n",
    "### Supporting evidence\n",
    "\n"
   ]
  },
  {
   "cell_type": "code",
   "execution_count": 15,
   "metadata": {},
   "outputs": [
    {
     "data": {
      "text/html": [
       "<h3>Regular reflection </h3>"
      ],
      "text/plain": [
       "<IPython.core.display.HTML object>"
      ]
     },
     "metadata": {},
     "output_type": "display_data"
    },
    {
     "data": {
      "text/html": [
       "<h3>Week3 </h3>"
      ],
      "text/plain": [
       "<IPython.core.display.HTML object>"
      ]
     },
     "metadata": {},
     "output_type": "display_data"
    },
    {
     "data": {
      "text/html": [
       "\n",
       "<ul>\n",
       "    <li>Examined different data structures like lists, tuples, dictionaries, and DataFrames.</li>\n",
       "    <li>Applied these structures in practical exercises to handle real data sets.</li>\n",
       "</ul>\n",
       "<p><strong>Supporting Evidence:</strong></p>\n",
       "<ul>\n",
       "    <li>Worked through a lab session implementing various data structures in Python.</li>\n",
       "    <li>Submitted a mini-project that involved cleaning a dataset using pandas.</li>\n",
       "</ul>\n"
      ],
      "text/plain": [
       "<IPython.core.display.HTML object>"
      ]
     },
     "metadata": {},
     "output_type": "display_data"
    }
   ],
   "source": [
    "# run this cell when you complete a reflection\n",
    "display(HTML(f\"<h3>Regular reflection </h3>\"))\n",
    "display(HTML(f\"<h3>Week3 </h3>\"))\n",
    "#display(HTML(f\"<h3>Regular reflection date: {time.strftime('%Y.%m.%d')}</h3>\"))\n",
    "display(HTML(\"\"\"\n",
    "<ul>\n",
    "    <li>Examined different data structures like lists, tuples, dictionaries, and DataFrames.</li>\n",
    "    <li>Applied these structures in practical exercises to handle real data sets.</li>\n",
    "</ul>\n",
    "<p><strong>Supporting Evidence:</strong></p>\n",
    "<ul>\n",
    "    <li>Worked through a lab session implementing various data structures in Python.</li>\n",
    "    <li>Submitted a mini-project that involved cleaning a dataset using pandas.</li>\n",
    "</ul>\n",
    "\"\"\"))\n"
   ]
  },
  {
   "cell_type": "markdown",
   "metadata": {},
   "source": [
    "### Regular Reflection\n",
    "\n",
    "\n",
    "\n",
    "### Supporting evidence\n",
    "\n"
   ]
  },
  {
   "cell_type": "code",
   "execution_count": 17,
   "metadata": {},
   "outputs": [
    {
     "data": {
      "text/html": [
       "<h3>Regular reflection </h3>"
      ],
      "text/plain": [
       "<IPython.core.display.HTML object>"
      ]
     },
     "metadata": {},
     "output_type": "display_data"
    },
    {
     "data": {
      "text/html": [
       "<h3>Week4</h3>"
      ],
      "text/plain": [
       "<IPython.core.display.HTML object>"
      ]
     },
     "metadata": {},
     "output_type": "display_data"
    },
    {
     "data": {
      "text/html": [
       "\n",
       "<ul>\n",
       "    <li>Learned about basic statistical concepts and their application in Python.</li>\n",
       "    <li>Conducted descriptive statistical analysis to derive insights from a dataset related to healthcare.</li>\n",
       "</ul>\n",
       "<h3><strong>Supporting Evidence:</strong></h3>\n",
       "<ul>\n",
       "    <li>Attended a workshop on statistical analysis using scipy and numpy.</li>\n",
       "    <li>Analyzed a dataset to find trends in patient admissions.</li>\n",
       "</ul>\n"
      ],
      "text/plain": [
       "<IPython.core.display.HTML object>"
      ]
     },
     "metadata": {},
     "output_type": "display_data"
    }
   ],
   "source": [
    "# run this cell when you complete a reflection\n",
    "display(HTML(f\"<h3>Regular reflection </h3>\"))\n",
    "display(HTML(f\"<h3>Week4</h3>\"))\n",
    "display(HTML(\"\"\"\n",
    "<ul>\n",
    "    <li>Learned about basic statistical concepts and their application in Python.</li>\n",
    "    <li>Conducted descriptive statistical analysis to derive insights from a dataset related to healthcare.</li>\n",
    "</ul>\n",
    "<h3><strong>Supporting Evidence:</strong></h3>\n",
    "<ul>\n",
    "    <li>Attended a workshop on statistical analysis using scipy and numpy.</li>\n",
    "    <li>Analyzed a dataset to find trends in patient admissions.</li>\n",
    "</ul>\n",
    "\"\"\"))\n"
   ]
  },
  {
   "cell_type": "markdown",
   "metadata": {},
   "source": [
    "### Regular Reflection\n",
    "\n",
    "\n",
    "\n",
    "### Supporting evidence\n",
    "\n"
   ]
  },
  {
   "cell_type": "code",
   "execution_count": 19,
   "metadata": {},
   "outputs": [
    {
     "data": {
      "text/html": [
       "<h3>Regular reflection </h3>"
      ],
      "text/plain": [
       "<IPython.core.display.HTML object>"
      ]
     },
     "metadata": {},
     "output_type": "display_data"
    },
    {
     "data": {
      "text/html": [
       "<h3>week5</h3>"
      ],
      "text/plain": [
       "<IPython.core.display.HTML object>"
      ]
     },
     "metadata": {},
     "output_type": "display_data"
    },
    {
     "data": {
      "text/html": [
       "\n",
       "<ul>\n",
       "    <li>Began working on the midterm project, which involves a comprehensive analysis of a financial dataset.</li>\n",
       "    <li>Collaborated with peers to refine our analysis strategy and data cleaning methods.</li>\n",
       "</ul>\n",
       "<h3><strong>Supporting Evidence:</strong></h3>\n",
       "<ul>\n",
       "    <li>Met with project group to plan the project outline and divide tasks.</li>\n",
       "    <li>Compiled initial findings and drafted the first part of the analysis report.</you></li>\n",
       "</ul>\n"
      ],
      "text/plain": [
       "<IPython.core.display.HTML object>"
      ]
     },
     "metadata": {},
     "output_type": "display_data"
    }
   ],
   "source": [
    "# run this cell when you complete a reflection\n",
    "display(HTML(f\"<h3>Regular reflection </h3>\"))\n",
    "display(HTML(f\"<h3>week5</h3>\"))\n",
    "display(HTML(\"\"\"\n",
    "<ul>\n",
    "    <li>Began working on the midterm project, which involves a comprehensive analysis of a financial dataset.</li>\n",
    "    <li>Collaborated with peers to refine our analysis strategy and data cleaning methods.</li>\n",
    "</ul>\n",
    "<h3><strong>Supporting Evidence:</strong></h3>\n",
    "<ul>\n",
    "    <li>Met with project group to plan the project outline and divide tasks.</li>\n",
    "    <li>Compiled initial findings and drafted the first part of the analysis report.</you></li>\n",
    "</ul>\n",
    "\"\"\"))\n"
   ]
  },
  {
   "cell_type": "markdown",
   "metadata": {},
   "source": [
    "### Regular Reflection\n",
    "\n",
    "\n",
    "\n",
    "### Supporting evidence\n",
    "\n"
   ]
  },
  {
   "cell_type": "code",
   "execution_count": 22,
   "metadata": {},
   "outputs": [
    {
     "data": {
      "text/html": [
       "<h3>Regular reflection </h3>"
      ],
      "text/plain": [
       "<IPython.core.display.HTML object>"
      ]
     },
     "metadata": {},
     "output_type": "display_data"
    },
    {
     "data": {
      "text/html": [
       "<h3>week6</h3>"
      ],
      "text/plain": [
       "<IPython.core.display.HTML object>"
      ]
     },
     "metadata": {},
     "output_type": "display_data"
    },
    {
     "data": {
      "text/html": [
       "\n",
       "<ul>\n",
       "    <li>Explored more complex data manipulation techniques using Python's pandas library.</li>\n",
       "    <li>Learned to merge, join, and concatenate datasets to prepare data for analysis.</li>\n",
       "</ul>\n",
       "<h3><strong>Supporting Evidence:</strong></h3>\n",
       "<ul>\n",
       "    <li>Completed a hands-on exercise on merging multiple datasets related to socioeconomic data.</li>\n",
       "    <li>Participated in a peer-led tutorial session, discussing real-world applications of data manipulation.</li>\n",
       "</ul>\n"
      ],
      "text/plain": [
       "<IPython.core.display.HTML object>"
      ]
     },
     "metadata": {},
     "output_type": "display_data"
    }
   ],
   "source": [
    "# run this cell when you complete a reflection\n",
    "display(HTML(f\"<h3>Regular reflection </h3>\"))\n",
    "display(HTML(f\"<h3>week6</h3>\"))\n",
    "display(HTML(\"\"\"\n",
    "<ul>\n",
    "    <li>Explored more complex data manipulation techniques using Python's pandas library.</li>\n",
    "    <li>Learned to merge, join, and concatenate datasets to prepare data for analysis.</li>\n",
    "</ul>\n",
    "<h3><strong>Supporting Evidence:</strong></h3>\n",
    "<ul>\n",
    "    <li>Completed a hands-on exercise on merging multiple datasets related to socioeconomic data.</li>\n",
    "    <li>Participated in a peer-led tutorial session, discussing real-world applications of data manipulation.</li>\n",
    "</ul>\n",
    "\"\"\"))\n"
   ]
  },
  {
   "cell_type": "markdown",
   "metadata": {},
   "source": [
    "### Regular Reflection\n",
    "\n",
    "\n",
    "\n",
    "### Supporting evidence\n",
    "\n"
   ]
  },
  {
   "cell_type": "code",
   "execution_count": 23,
   "metadata": {},
   "outputs": [
    {
     "data": {
      "text/html": [
       "<h3>Regular reflection</h3>"
      ],
      "text/plain": [
       "<IPython.core.display.HTML object>"
      ]
     },
     "metadata": {},
     "output_type": "display_data"
    },
    {
     "data": {
      "text/html": [
       "<h3>week7</h3>"
      ],
      "text/plain": [
       "<IPython.core.display.HTML object>"
      ]
     },
     "metadata": {},
     "output_type": "display_data"
    },
    {
     "data": {
      "text/html": [
       "\n",
       "<ul>\n",
       "    <li>Introduction to machine learning concepts and the use of scikit-learn library.</li>\n",
       "    <li>Implemented simple regression and classification models on sample datasets.</li>\n",
       "</ul>\n",
       "<h3><strong>Supporting Evidence:</strong></h3>\n",
       "<ul>\n",
       "    <li>Submitted a lab assignment where I predicted housing prices using linear regression.</li>\n",
       "    <li>Engaged in group discussions about the challenges and implications of machine learning in industry.</li>\n",
       "</ul>\n"
      ],
      "text/plain": [
       "<IPython.core.display.HTML object>"
      ]
     },
     "metadata": {},
     "output_type": "display_data"
    }
   ],
   "source": [
    "# run this cell when you complete a reflection\n",
    "display(HTML(f\"<h3>Regular reflection</h3>\"))\n",
    "display(HTML(f\"<h3>week7</h3>\"))\n",
    "display(HTML(\"\"\"\n",
    "<ul>\n",
    "    <li>Introduction to machine learning concepts and the use of scikit-learn library.</li>\n",
    "    <li>Implemented simple regression and classification models on sample datasets.</li>\n",
    "</ul>\n",
    "<h3><strong>Supporting Evidence:</strong></h3>\n",
    "<ul>\n",
    "    <li>Submitted a lab assignment where I predicted housing prices using linear regression.</li>\n",
    "    <li>Engaged in group discussions about the challenges and implications of machine learning in industry.</li>\n",
    "</ul>\n",
    "\"\"\"))\n"
   ]
  },
  {
   "cell_type": "markdown",
   "metadata": {},
   "source": [
    "### Regular Reflection\n",
    "\n",
    "\n",
    "\n",
    "### Supporting evidence\n",
    "\n"
   ]
  },
  {
   "cell_type": "code",
   "execution_count": 24,
   "metadata": {},
   "outputs": [
    {
     "data": {
      "text/html": [
       "<h3>Regular reflection</h3>"
      ],
      "text/plain": [
       "<IPython.core.display.HTML object>"
      ]
     },
     "metadata": {},
     "output_type": "display_data"
    },
    {
     "data": {
      "text/html": [
       "<h3>week8</h3>"
      ],
      "text/plain": [
       "<IPython.core.display.HTML object>"
      ]
     },
     "metadata": {},
     "output_type": "display_data"
    },
    {
     "data": {
      "text/html": [
       "\n",
       "<ul>\n",
       "    <li>Studied advanced data visualization techniques with Python's seaborn and Plotly libraries.</li>\n",
       "    <li>Created interactive charts and maps for dynamic data representation.</li>\n",
       "</ul>\n",
       "<h3><strong>Supporting Evidence:</strong></h3>\n",
       "<ul>\n",
       "    <li>Developed a dashboard for visualizing COVID-19 data trends as part of a class project.</li>\n",
       "    <li>Attended a webinar on the importance of visual aesthetics in data presentation.</li>\n",
       "</ul>\n"
      ],
      "text/plain": [
       "<IPython.core.display.HTML object>"
      ]
     },
     "metadata": {},
     "output_type": "display_data"
    }
   ],
   "source": [
    "# run this cell when you complete a reflection\n",
    "display(HTML(f\"<h3>Regular reflection</h3>\"))\n",
    "display(HTML(f\"<h3>week8</h3>\"))\n",
    "display(HTML(\"\"\"\n",
    "<ul>\n",
    "    <li>Studied advanced data visualization techniques with Python's seaborn and Plotly libraries.</li>\n",
    "    <li>Created interactive charts and maps for dynamic data representation.</li>\n",
    "</ul>\n",
    "<h3><strong>Supporting Evidence:</strong></h3>\n",
    "<ul>\n",
    "    <li>Developed a dashboard for visualizing COVID-19 data trends as part of a class project.</li>\n",
    "    <li>Attended a webinar on the importance of visual aesthetics in data presentation.</li>\n",
    "</ul>\n",
    "\"\"\"))"
   ]
  },
  {
   "cell_type": "markdown",
   "metadata": {},
   "source": [
    "### Regular Reflection\n",
    "\n",
    "\n",
    "\n",
    "### Supporting evidence\n",
    "\n"
   ]
  },
  {
   "cell_type": "code",
   "execution_count": 25,
   "metadata": {},
   "outputs": [
    {
     "data": {
      "text/html": [
       "<h3>Regular reflection</h3>"
      ],
      "text/plain": [
       "<IPython.core.display.HTML object>"
      ]
     },
     "metadata": {},
     "output_type": "display_data"
    },
    {
     "data": {
      "text/html": [
       "<h3>week9</h3>"
      ],
      "text/plain": [
       "<IPython.core.display.HTML object>"
      ]
     },
     "metadata": {},
     "output_type": "display_data"
    },
    {
     "data": {
      "text/html": [
       "\n",
       "<ul>\n",
       "    <li>Discussed the ethical implications of data collection and analysis.</li>\n",
       "    <li>Analyzed case studies related to data privacy and ethical use of automated decision-making systems.</li>\n",
       "</ul>\n",
       "<h3><strong>Supporting Evidence:</strong></h3>\n",
       "<ul>\n",
       "    <li>Participated in a class debate on data ethics and the role of AI in societal norms.</li>\n",
       "    <li>Wrote a reflective essay on the impact of data biases in machine learning algorithms.</li>\n",
       "</ul>\n"
      ],
      "text/plain": [
       "<IPython.core.display.HTML object>"
      ]
     },
     "metadata": {},
     "output_type": "display_data"
    }
   ],
   "source": [
    "# run this cell when you complete a reflection\n",
    "display(HTML(f\"<h3>Regular reflection</h3>\"))\n",
    "display(HTML(f\"<h3>week9</h3>\"))\n",
    "display(HTML(\"\"\"\n",
    "<ul>\n",
    "    <li>Discussed the ethical implications of data collection and analysis.</li>\n",
    "    <li>Analyzed case studies related to data privacy and ethical use of automated decision-making systems.</li>\n",
    "</ul>\n",
    "<h3><strong>Supporting Evidence:</strong></h3>\n",
    "<ul>\n",
    "    <li>Participated in a class debate on data ethics and the role of AI in societal norms.</li>\n",
    "    <li>Wrote a reflective essay on the impact of data biases in machine learning algorithms.</li>\n",
    "</ul>\n",
    "\"\"\"))\n"
   ]
  },
  {
   "cell_type": "markdown",
   "metadata": {},
   "source": [
    "### Regular Reflection\n",
    "\n",
    "\n",
    "\n",
    "### Supporting evidence\n",
    "\n"
   ]
  },
  {
   "cell_type": "code",
   "execution_count": 26,
   "metadata": {},
   "outputs": [
    {
     "data": {
      "text/html": [
       "<h3>Regular reflection</h3>"
      ],
      "text/plain": [
       "<IPython.core.display.HTML object>"
      ]
     },
     "metadata": {},
     "output_type": "display_data"
    },
    {
     "data": {
      "text/html": [
       "<h3>week10</h3>"
      ],
      "text/plain": [
       "<IPython.core.display.HTML object>"
      ]
     },
     "metadata": {},
     "output_type": "display_data"
    },
    {
     "data": {
      "text/html": [
       "\n",
       "<ul>\n",
       "    <li>Learnt how to integrate APIs to fetch external data into Python environments.</li>\n",
       "    <li>Practiced with real-world APIs to enhance the dataset for our projects.</li>\n",
       "</ul>\n",
       "<h3><strong>Supporting Evidence:</strong></h3>\n",
       "<ul>\n",
       "    <li>Used the Twitter API to gather data for sentiment analysis on social media trends.</li>\n",
       "    <li>Conducted a group session to discuss the integration challenges and data handling.</li>\n",
       "</ul>\n"
      ],
      "text/plain": [
       "<IPython.core.display.HTML object>"
      ]
     },
     "metadata": {},
     "output_type": "display_data"
    }
   ],
   "source": [
    "# run this cell when you complete a reflection\n",
    "display(HTML(f\"<h3>Regular reflection</h3>\"))\n",
    "display(HTML(f\"<h3>week10</h3>\"))\n",
    "display(HTML(\"\"\"\n",
    "<ul>\n",
    "    <li>Learnt how to integrate APIs to fetch external data into Python environments.</li>\n",
    "    <li>Practiced with real-world APIs to enhance the dataset for our projects.</li>\n",
    "</ul>\n",
    "<h3><strong>Supporting Evidence:</strong></h3>\n",
    "<ul>\n",
    "    <li>Used the Twitter API to gather data for sentiment analysis on social media trends.</li>\n",
    "    <li>Conducted a group session to discuss the integration challenges and data handling.</li>\n",
    "</ul>\n",
    "\"\"\"))\n"
   ]
  },
  {
   "cell_type": "markdown",
   "metadata": {},
   "source": [
    "### Regular Reflection\n",
    "\n",
    "\n",
    "\n",
    "### Supporting evidence\n",
    "\n"
   ]
  },
  {
   "cell_type": "code",
   "execution_count": 27,
   "metadata": {},
   "outputs": [
    {
     "data": {
      "text/html": [
       "<h3>Regular reflection</h3>"
      ],
      "text/plain": [
       "<IPython.core.display.HTML object>"
      ]
     },
     "metadata": {},
     "output_type": "display_data"
    },
    {
     "data": {
      "text/html": [
       "<h3>week11</h8>"
      ],
      "text/plain": [
       "<IPython.core.display.HTML object>"
      ]
     },
     "metadata": {},
     "output_type": "display_data"
    },
    {
     "data": {
      "text/html": [
       "\n",
       "<ul>\n",
       "    <li>Started preparations for the final project, involving comprehensive data analysis and modeling.</li>\n",
       "    <li>Reviewed all the techniques learned throughout the semester to select the best tools for our project.</li>\n",
       "</ul>\n",
       "<h3><strong>Supporting Evidence:</strong></h3>\n",
       "<ul>\n",
       "    <li>Met with project advisors to finalize the project proposal and outline the approach.</li>\n",
       "    <li>Conducted preliminary data analysis to identify potential pitfalls and opportunities.</li>\n",
       "</ul>\n"
      ],
      "text/plain": [
       "<IPython.core.display.HTML object>"
      ]
     },
     "metadata": {},
     "output_type": "display_data"
    }
   ],
   "source": [
    "# run this cell when you complete a reflection\n",
    "display(HTML(f\"<h3>Regular reflection</h3>\"))\n",
    "display(HTML(f\"<h3>week11</h8>\"))\n",
    "display(HTML(\"\"\"\n",
    "<ul>\n",
    "    <li>Started preparations for the final project, involving comprehensive data analysis and modeling.</li>\n",
    "    <li>Reviewed all the techniques learned throughout the semester to select the best tools for our project.</li>\n",
    "</ul>\n",
    "<h3><strong>Supporting Evidence:</strong></h3>\n",
    "<ul>\n",
    "    <li>Met with project advisors to finalize the project proposal and outline the approach.</li>\n",
    "    <li>Conducted preliminary data analysis to identify potential pitfalls and opportunities.</li>\n",
    "</ul>\n",
    "\"\"\"))\n"
   ]
  },
  {
   "cell_type": "markdown",
   "metadata": {},
   "source": [
    "### Regular Reflection\n",
    "\n",
    "\n",
    "\n",
    "### Supporting evidence\n",
    "\n"
   ]
  },
  {
   "cell_type": "code",
   "execution_count": 29,
   "metadata": {
    "scrolled": true
   },
   "outputs": [
    {
     "data": {
      "text/html": [
       "<h3>Regular reflection </h3>"
      ],
      "text/plain": [
       "<IPython.core.display.HTML object>"
      ]
     },
     "metadata": {},
     "output_type": "display_data"
    },
    {
     "data": {
      "text/html": [
       "<h3>week12</h3>"
      ],
      "text/plain": [
       "<IPython.core.display.HTML object>"
      ]
     },
     "metadata": {},
     "output_type": "display_data"
    },
    {
     "data": {
      "text/html": [
       "\n",
       "<ul>\n",
       "    <li>Reviewed the entire course material to consolidate knowledge and prepare for the final exam.</li>\n",
       "    <li>Engaged in study groups to discuss key concepts and solve complex problems together.</li>\n",
       "</ul>\n",
       "<p><strong>Supporting Evidence:</strong></p>\n",
       "<ul>\n",
       "    <li>Participated in a comprehensive review session organized by the department.</li>\n",
       "    <li>Completed multiple practice exams to assess understanding and readiness for the final test.</li>\n",
       "</ul>\n"
      ],
      "text/plain": [
       "<IPython.core.display.HTML object>"
      ]
     },
     "metadata": {},
     "output_type": "display_data"
    }
   ],
   "source": [
    "# run this cell when you complete a reflection\n",
    "display(HTML(f\"<h3>Regular reflection </h3>\"))\n",
    "display(HTML(f\"<h3>week12</h3>\"))\n",
    "display(HTML(\"\"\"\n",
    "<ul>\n",
    "    <li>Reviewed the entire course material to consolidate knowledge and prepare for the final exam.</li>\n",
    "    <li>Engaged in study groups to discuss key concepts and solve complex problems together.</li>\n",
    "</ul>\n",
    "<p><strong>Supporting Evidence:</strong></p>\n",
    "<ul>\n",
    "    <li>Participated in a comprehensive review session organized by the department.</li>\n",
    "    <li>Completed multiple practice exams to assess understanding and readiness for the final test.</li>\n",
    "</ul>\n",
    "\"\"\"))\n"
   ]
  },
  {
   "cell_type": "markdown",
   "metadata": {},
   "source": [
    "\n",
    "display(HTML(f\"<h3>Regular reflection </h3>\"))\n",
    "\n",
    "display(HTML(f\"<h3>Week1 </h3>\"))\n",
    "\n",
    "\n",
    "display(HTML(\"\"\"\n",
    "<ul>\n",
    "    <li>Explored the basic concepts of data analytics.</li>\n",
    "    <li>Introduction to tools and software, including Python and Jupyter Notebooks.</li>\n",
    "</ul>\n",
    "<h3><strong>Supporting Evidence:</strong></h3>\n",
    "<ul>\n",
    "    <li>Setup and configured Jupyter Notebook for the first time.</li>\n",
    "    <li>Participated in the initial group discussion in the online forum.</li>\n",
    "</ul>\n",
    "\"\"\"))\n"
   ]
  },
  {
   "cell_type": "markdown",
   "metadata": {},
   "source": [
    "---\n",
    "\n",
    "## PART B - Reflective Journal\n",
    "\n",
    "*Write your final reflective journal in the next cell (using markdown). This part should be 2-3 pages long when exported as PDF.*\n",
    "\n",
    "---"
   ]
  },
  {
   "cell_type": "markdown",
   "metadata": {
    "jp-MarkdownHeadingCollapsed": true
   },
   "source": [
    "\n",
    "display(HTML(f\"<h3>Regular reflection </h3>\"))\n",
    "\n",
    "display(HTML(f\"<h3>Week1 </h3>\"))\n",
    "\n",
    "\n",
    "display(HTML(\"\"\"\n",
    "<ul>\n",
    "    <li>Explored the basic concepts of data analytics.</li>\n",
    "    <li>Introduction to tools and software, including Python and Jupyter Notebooks.</li>\n",
    "</ul>\n",
    "<h3><strong>Supporting Evidence:</strong></h3>\n",
    "<ul>\n",
    "    <li>Setup and configured Jupyter Notebook for the first time.</li>\n",
    "    <li>Participated in the initial group discussion in the online forum.</li>\n",
    "</ul>\n",
    "\"\"\"))\n",
    "emester has been an intensely educational and personally transforming data analytics adventure. Gaining a solid grasp of the Jupyter environment and delving deeply into Python's many data structures laid the groundwork for everything learning that followed. Because they established the framework for negotiating the intricate world of data analytics, these fundamental abilities were essential.\n",
    "\n",
    "The projects became harder as I went, forcing me to use statistical techniques in new ways and broaden my analytical skills. Learning how to calculate mean, variance, and standard deviation among other descriptive statistics helped me to turn abstract ideas into concrete results by deriving useful insights from raw data. These statistical techniques have been a mainstay of my studies and have been shown in actual application how important they are to efficient data processing.\n",
    "\n",
    "All through the training, data visualisation became clear as a critical ability. Choosing the appropriate visual tools for various data kinds was first intimidating. But I became proficient enough to properly and successfully communicate complicated data findings with perseverance and practice. This talent improved my capacity to convey complicated material clearly and was not just very useful academically.\n",
    "\n",
    "A big obstacle was moving to the analysis of unstructured data using methods like TF/IDF, LDA, and NMF. But learning these methods was very satisfying since it improved my comprehension and use of complicated datasets. Growing as a data analyst was made possible in large part by this experience.\n",
    "\n",
    "User Thread\n",
    "\n",
    "When I thought back on how I had grown personally this semester, I felt everything from thrilled to sometimes frustrated. I was able to track my development in real time by beginning with basic abilities and working my way up to more difficult analytical jobs. Every obstacle I encountered showed me the value of persistence and the need of approaching problem-solving methodically in addition to data analytics.\n",
    "\n",
    "Overcoming the more difficult parts of the course was made possible in large part by the assistance of my instructors. Their direction gave me the skills to improve my data analysis technique and helped me work through challenging ideas. When I ran against challenges putting theoretical knowledge to use in real-world situations, their observations were really helpful.\n",
    "\n",
    "A major influence on my viewpoint was also played by ethical issues in data analytics. In managing data, the training stressed the need of honesty, openness, and responsibility. By using Generative AI (GenAI) tools, I investigated novel approaches that improved the effectiveness and depth of my investigations, therefore confirming the ability of AI to supplement human skills in data science.\n",
    "\n",
    "Research Thread\n",
    "\n",
    "There are many and different insights that this training has given me. The need of doing extensive preparatory study and risk assessment in project planning was one of the most important lessons. This method made possible the early detection of possible problems and the facilitation of more efficient remedies.\n",
    "\n",
    "Getting important insights from data has required asking the correct questions, a talent I have developed this semester. Any data analyst has to possess this skill because it guides the analytical procedure and guarantees the depth and relevance of the conclusions.\n",
    "\n",
    "Working with unstructured data presented some difficulties that made adaptation and learning ongoing. My experiences this semester have made clear how crucial teamwork and the usefulness of many viewpoints are to accomplish thorough analysis.\n",
    "\n",
    "I'm dedicated going ahead to lifelong learning and data analytics advancement. I want to improve my abilities in data analysis's ethical and technical aspects even further so that my work respects the highest standards of professionalism and honesty and benefits society.\n",
    "\n",
    "Finally, my academic and personal growth have been greatly aided by the guidance and support of my professors and tutors. Making the most of the educational chances offered throughout the course and negotiating the complexity of data analytics required their direction. I am very appreciative of their help and enthusiastic about the opportunities that data analytics will provide.*\n",
    "\n",
    "---"
   ]
  },
  {
   "cell_type": "markdown",
   "metadata": {},
   "source": [
    "display(HTML(f\"<h3>Final reflection date: {time.strftime('%Y.%m.%d')}</h3>\"))\n",
    "display(HTML(\"\"\"\n",
    "<p>This semester has been a journey of immense growth and learning. From mastering Python for data analysis to understanding complex machine learning algorithms, each week brought new challenges and achievements. I've not only improved my technical skills but also gained a deeper understanding of the ethical implications of data science, which will guide my future endeavors.</p>\n",
    "<p><strong>Key Takeaways:</strong></p>\n",
    "<ul>\n",
    "    <li>Developed a robust foundation in data manipulation, visualization, and analysis techniques.</li>\n",
    "    <li>Learned the importance of ethical considerations in data science.</li>\n",
    "    <li>Prepared to apply these skills in real-world scenarios, aiming to contribute positively to the field of data science.</li>\n",
    "</ul>\n",
    "<p>I am grateful for the support of my peers and instructors and excited about the opportunities that lie ahead in my data science career.</p>\n",
    "\"\"\"))\n"
   ]
  },
  {
   "cell_type": "code",
   "execution_count": null,
   "metadata": {},
   "outputs": [],
   "source": []
  },
  {
   "cell_type": "code",
   "execution_count": null,
   "metadata": {},
   "outputs": [],
   "source": []
  }
 ],
 "metadata": {
  "kernelspec": {
   "display_name": "Python 3 (ipykernel)",
   "language": "python",
   "name": "python3"
  },
  "language_info": {
   "codemirror_mode": {
    "name": "ipython",
    "version": 3
   },
   "file_extension": ".py",
   "mimetype": "text/x-python",
   "name": "python",
   "nbconvert_exporter": "python",
   "pygments_lexer": "ipython3",
   "version": "3.10.13"
  }
 },
 "nbformat": 4,
 "nbformat_minor": 4
}
